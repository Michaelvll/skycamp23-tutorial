{
 "cells": [
  {
   "cell_type": "markdown",
   "metadata": {
    "jupyter": {
     "outputs_hidden": true
    }
   },
   "source": [
    "<p style=\"text-align:center;\">\n",
    "    <img src=\"https://raw.githubusercontent.com/skypilot-org/skypilot/master/docs/source/images/skypilot-wide-light-1k.png\" width=500>\n",
    "</p>"
   ]
  },
  {
   "cell_type": "markdown",
   "metadata": {},
   "source": [
    "# Managing SkyPilot Jobs\n",
    "\n",
    "SkyPilot’s job queue allows multiple tasks to be scheduled on a cluster. As resources are relinquished by completed tasks, SkyPilot places pending tasks on available resources. This allows you to queue many tasks on a single cluster and fetch outputs and logs later whenever convinient."
   ]
  },
  {
   "cell_type": "markdown",
   "metadata": {},
   "source": [
    "# Learning outcomes 🎯\n",
    "\n",
    "After completing this notebook, you will be able to:\n",
    "\n",
    "1. Detach from long running jobs and fetch their logs later\n",
    "2. Queue multiple jobs on the same cluster\n",
    "3. Check status of queued jobs"
   ]
  },
  {
   "cell_type": "markdown",
   "metadata": {},
   "source": [
    "# Launching the task\n",
    "\n",
    "For this tutorial we will define and launch a slow task in `slow_task.yaml` which sleeps for 1 hour.\n",
    "\n",
    "```yaml\n",
    "# slow_task.yaml\n",
    "name: slowtask\n",
    "\n",
    "run: |\n",
    "  for i in {1..3600}; do\n",
    "    echo \"Time elapsed since start: $i\"\n",
    "    sleep 1\n",
    "  done\n",
    "```"
   ]
  },
  {
   "cell_type": "code",
   "execution_count": null,
   "metadata": {},
   "outputs": [],
   "source": []
  }
 ],
 "metadata": {
  "kernelspec": {
   "display_name": "Python 3",
   "language": "python",
   "name": "python3"
  },
  "language_info": {
   "codemirror_mode": {
    "name": "ipython",
    "version": 3
   },
   "file_extension": ".py",
   "mimetype": "text/x-python",
   "name": "python",
   "nbconvert_exporter": "python",
   "pygments_lexer": "ipython3",
   "version": "3.7.4"
  }
 },
 "nbformat": 4,
 "nbformat_minor": 4
}