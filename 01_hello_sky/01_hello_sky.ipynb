{
 "cells": [
  {
   "cell_type": "markdown",
   "metadata": {},
   "source": [
    "<p style=\"text-align:center;\">\n",
    "    <img src=\"https://raw.githubusercontent.com/skypilot-org/skypilot/master/docs/source/images/skypilot-wide-light-1k.png\" width=500>\n",
    "</p>"
   ]
  },
  {
   "cell_type": "markdown",
   "metadata": {
    "pycharm": {
     "name": "#%% md\n"
    }
   },
   "source": [
    "# Welcome to SkyPilot!"
   ]
  },
  {
   "cell_type": "markdown",
   "metadata": {
    "pycharm": {
     "name": "#%% md\n"
    }
   },
   "source": [
    "SkyPilot is a framework for running machine learning workloads on any cloud.\n",
    "\n",
    "SkyPilot makes it easy to use multiple clouds and reduce your cloud costs.\n",
    "\n",
    "_Ease of use & productivity_\n",
    "* **Run existing projects on the cloud** with zero code changes\n",
    "* **Easily manage jobs** across multiple clusters\n",
    "* **Automatic fail-over** to find scarce resources (GPUs) across regions and clouds\n",
    "* **Store datasets on the cloud** and access them like you would on a local file system \n",
    "* **No cloud lock-in** – seamlessly run your code across different cloud providers (AWS, Azure or GCP)\n",
    "\n",
    "_Cost saving_\n",
    "* Run jobs on **spot instances** with **automatic recovery** from preemptions\n",
    "* Hands-free cluster management: **automatically stopping idle clusters**\n",
    "* One-click use of **TPUs**, for high-performance, cost-effective training\n",
    "* Automatically benchmark and find the cheapest hardware for your job"
   ]
  },
  {
   "cell_type": "markdown",
   "metadata": {},
   "source": [
    "# Learning outcomes 🎯\n",
    "\n",
    "After completing this notebook, you will be able to:\n",
    "\n",
    "1. Understand the basic SkyPilot YAML interface (`setup`, `run`).\n",
    "2. Run a hello world task on a cloud of your choice.\n",
    "3. SSH into your cluster for debugging and development.\n",
    "4. Terminate the cluster and understand the cluster lifecycle."
   ]
  },
  {
   "cell_type": "markdown",
   "metadata": {},
   "source": [
    "# How to use this Tutorial"
   ]
  },
  {
   "cell_type": "markdown",
   "metadata": {},
   "source": [
    "These notebooks serve as an **interactive** introduction to SkyPilot.\n",
    "\n",
    "There are points in these notebooks where you may need to edit files outside the notebook and open a terminal to run some commands. These points will be highlighted with **two icons**:\n",
    "\n",
    "### 📝 - Edit an external file\n",
    "### 💻 - Run commands in an interactive terminal window\n",
    "\n",
    "You can use these icons as a hint to know when to switch away from the current notebook and edit a file or open a terminal.\n",
    "\n",
    "> **💡 Hint** - If you're using jupyter lab, you can create a terminal in your browser by going to `File -> New -> Terminal`"
   ]
  },
  {
   "cell_type": "markdown",
   "metadata": {},
   "source": [
    "# Preflight checks - verifying cloud credential setup"
   ]
  },
  {
   "cell_type": "markdown",
   "metadata": {},
   "source": [
    "Before we start this tutorial, let's run `sky check` to make sure your credentials are correctly setup.\n",
    "\n",
    "After running the below cell, you should have one or more clouds marked as `enabled`.\n",
    "\n",
    "> **💡 Hint** - If you don't see any clouds enabled, please refer to `00_installation` notebook or the [SkyPilot docs](https://skypilot.readthedocs.io/en/latest/getting-started/installation.html#cloud-account-setup) on how to setup your cloud accounts."
   ]
  },
  {
   "cell_type": "code",
   "execution_count": 1,
   "metadata": {},
   "outputs": [
    {
     "name": "stdout",
     "output_type": "stream",
     "text": [
      "Checking credentials to enable clouds for SkyPilot.\n",
      "  \u001B[32m\u001B[1mAWS: enabled\u001B[0m          \n",
      "  \u001B[32m\u001B[1mAzure: enabled\u001B[0m          \n",
      "  \u001B[32m\u001B[1mGCP: enabled\u001B[0m          \n",
      "\n",
      "SkyPilot will use only the enabled clouds to run tasks. To change this, configure cloud credentials, and run \u001B[1msky check\u001B[0m.\n",
      "\u001B[0m"
     ]
    }
   ],
   "source": [
    "# Run this cell to check if your cloud accounts are setup to work with SkyPilot\n",
    "! sky check"
   ]
  },
  {
   "cell_type": "markdown",
   "metadata": {},
   "source": [
    "# Writing your first SkyPilot Task"
   ]
  },
  {
   "cell_type": "markdown",
   "metadata": {},
   "source": [
    "A **task** in SkyPilot specifies the command that must be run on the cloud, along with the resources required (e.g. GPUs, TPUs, number of nodes) and any dependencies (e.g., files, packages and libraries).\n",
    "\n",
    "Tasks in SkyPilot are defined as YAML files. Here is an example:\n",
    "\n",
    "-----------------------------------\n",
    "```yaml\n",
    "# example.yaml\n",
    "name: example\n",
    "\n",
    "setup: |\n",
    "  echo \"Run any setup commands here\"\n",
    "  sudo apt install cowsay\n",
    "\n",
    "run: |\n",
    "  echo \"Hello Stranger!\"\n",
    "  cowsay \"Moo!\"\n",
    "```\n",
    "----------------------------------- \n",
    "\n",
    "This defines a task with the following components:\n",
    "\n",
    "* **setup**: commands that must be run before the task is executed. Here we install any dependencies for the task.\n",
    "\n",
    "* **run**: commands that run the actual task."
   ]
  },
  {
   "cell_type": "markdown",
   "metadata": {},
   "source": [
    "## 📝 Edit `example.yaml` to echo \"Hello SkyPilot\" \n",
    "Go ahead and open example.yaml and edit the run field to echo \"Hello SkyPilot\"."
   ]
  },
  {
   "cell_type": "markdown",
   "metadata": {},
   "source": [
    "# Launching your first SkyPilot Task with `sky launch`"
   ]
  },
  {
   "cell_type": "markdown",
   "metadata": {},
   "source": [
    "Once your task YAML is ready, you can run it on the cloud with `sky launch`."
   ]
  },
  {
   "cell_type": "markdown",
   "metadata": {},
   "source": [
    "## 💻 Launch your Sky Task!\n",
    "\n",
    "In a terminal window, run:\n",
    "\n",
    "-------------------------\n",
    "```console\n",
    "sky launch example.yaml\n",
    "```\n",
    "-------------------------\n",
    "\n",
    "You'll notice that SkyPilot will perform multiple actions for you:\n",
    "#### **1. Find the lowest priced VM instance type across different clouds**\n",
    "\n",
    "SkyPilot will run its optimizer and present you with the cheapest VM type that fits your resource demand.\n",
    "\n",
    "> ```console\n",
    "$ sky launch example.yaml\n",
    "(base) romilb@romilbx1yoga:skypilot-tutorial/01_hello_sky$ sky launch example.yaml \n",
    "Task from YAML spec: example.yaml\n",
    "I 09-07 16:24:59 optimizer.py:605] == Optimizer ==\n",
    "I 09-07 16:24:59 optimizer.py:617] Target: minimizing cost\n",
    "I 09-07 16:24:59 optimizer.py:628] Estimated cost: $0.4 / hour\n",
    "I 09-07 16:24:59 optimizer.py:628] \n",
    "I 09-07 16:24:59 optimizer.py:685] Considered resources (1 node):\n",
    "I 09-07 16:24:59 optimizer.py:713] ---------------------------------------------------------------------\n",
    "I 09-07 16:24:59 optimizer.py:713]  CLOUD   INSTANCE         vCPUs   ACCELERATORS   COST ($)   CHOSEN   \n",
    "I 09-07 16:24:59 optimizer.py:713] ---------------------------------------------------------------------\n",
    "I 09-07 16:24:59 optimizer.py:713]  AWS     m6i.2xlarge      8       -              0.38          ✔     \n",
    "I 09-07 16:24:59 optimizer.py:713]  Azure   Standard_D8_v4   8       -              0.38                \n",
    "I 09-07 16:24:59 optimizer.py:713]  GCP     n1-highmem-8     8       -              0.47                \n",
    "I 09-07 16:24:59 optimizer.py:713] ---------------------------------------------------------------------\n",
    "I 09-07 16:24:59 optimizer.py:713] \n",
    "Launching a new cluster 'sky-82ce-romilb'. Proceed? [Y/n]: Y\n",
    "```\n",
    "\n",
    "#### **2. Provision the cluster**\n",
    "\n",
    "SkyPilot will setup a cluster with the requested resources and setup a SSH profile for it.\n",
    "\n",
    "\n",
    "#### **3. Run the task's `setup` commands to prepare the cluster for running the task**\n",
    "\n",
    "SkyPilot will run any commands specified in the `setup` field in the YMAL on the VMs in the cluster. In this case, it will install the `cowsay` package.\n",
    "\n",
    "\n",
    "#### **4. Run the task's `run` commands**\n",
    "\n",
    "Finally, SkyPilot will run the commands specified in the `run` field. These commands can use any dependencies installed in the `setup` phase.\n",
    "\n",
    "> ```console\n",
    "(example pid=23346) Hello SkyPilot!\n",
    "(example pid=23346)  ______\n",
    "(example pid=23346) < Moo! >\n",
    "(example pid=23346)  ------\n",
    "(example pid=23346)         \\   ^__^\n",
    "(example pid=23346)          \\  (oo)\\_______\n",
    "(example pid=23346)             (__)\\       )\\/\\\n",
    "(example pid=23346)                 ||----w |\n",
    "(example pid=23346)                 ||     ||\n",
    "INFO: Job finished (status: SUCCEEDED).\n",
    "```\n",
    "\n",
    "<details>\n",
    "  <summary> <b>💡 Hint</b> - the full output will look like this (click here)</summary>\n",
    "  \n",
    "\n",
    "```console\n",
    "$ sky launch example.yaml\n",
    "(base) romilb@romilbx1yoga:/mnt/d/Romil/Berkeley/Research/skypilot-tutorial/01_hello_sky$ sky launch example.yaml \n",
    "Task from YAML spec: example.yaml\n",
    "I 09-07 16:24:59 optimizer.py:605] == Optimizer ==\n",
    "I 09-07 16:24:59 optimizer.py:617] Target: minimizing cost\n",
    "I 09-07 16:24:59 optimizer.py:628] Estimated cost: $0.4 / hour\n",
    "I 09-07 16:24:59 optimizer.py:628] \n",
    "I 09-07 16:24:59 optimizer.py:685] Considered resources (1 node):\n",
    "I 09-07 16:24:59 optimizer.py:713] ---------------------------------------------------------------------\n",
    "I 09-07 16:24:59 optimizer.py:713]  CLOUD   INSTANCE         vCPUs   ACCELERATORS   COST ($)   CHOSEN   \n",
    "I 09-07 16:24:59 optimizer.py:713] ---------------------------------------------------------------------\n",
    "I 09-07 16:24:59 optimizer.py:713]  AWS     m6i.2xlarge      8       -              0.38          ✔     \n",
    "I 09-07 16:24:59 optimizer.py:713]  Azure   Standard_D8_v4   8       -              0.38                \n",
    "I 09-07 16:24:59 optimizer.py:713]  GCP     n1-highmem-8     8       -              0.47                \n",
    "I 09-07 16:24:59 optimizer.py:713] ---------------------------------------------------------------------\n",
    "I 09-07 16:24:59 optimizer.py:713] \n",
    "Launching a new cluster 'sky-82ce-romilb'. Proceed? [Y/n]: Y\n",
    "I 09-07 16:25:01 cloud_vm_ray_backend.py:2666] Creating a new cluster: \"sky-82ce-romilb\" [1x AWS(m6i.2xlarge)].\n",
    "I 09-07 16:25:01 cloud_vm_ray_backend.py:2666] Tip: to reuse an existing cluster, specify --cluster (-c). Run `sky status` to see existing clusters.\n",
    "I 09-07 16:25:01 cloud_vm_ray_backend.py:902] To view detailed progress: tail -n100 -f /home/romilb/sky_logs/sky-2022-09-07-16-24-58-776744/provision.log\n",
    "I 09-07 16:25:02 cloud_vm_ray_backend.py:1152] Launching on AWS us-east-1 (us-east-1a,us-east-1b,us-east-1c,us-east-1d,us-east-1e,us-east-1f)\n",
    "I 09-07 16:26:26 log_utils.py:45] Head node is up.\n",
    "I 09-07 16:27:27 cloud_vm_ray_backend.py:995] Successfully provisioned or found existing VM.\n",
    "I 09-07 16:27:29 cloud_vm_ray_backend.py:1972] Running setup on 1 node.\n",
    "Run any setup commands here\n",
    "\n",
    "WARNING: apt does not have a stable CLI interface. Use with caution in scripts.\n",
    "\n",
    "Reading package lists...\n",
    "Building dependency tree...\n",
    "Reading state information...\n",
    "The following packages were automatically installed and are no longer required:\n",
    "  python-pip-whl python3-wheel\n",
    "Use 'sudo apt autoremove' to remove them.\n",
    "Suggested packages:\n",
    "  filters cowsay-off\n",
    "The following NEW packages will be installed:\n",
    "  cowsay\n",
    "0 upgraded, 1 newly installed, 0 to remove and 3 not upgraded.\n",
    "Need to get 18.5 kB of archives.\n",
    "After this operation, 93.2 kB of additional disk space will be used.\n",
    "Get:1 http://us-east-1.ec2.archive.ubuntu.com/ubuntu focal/universe amd64 cowsay all 3.03+dfsg2-7 [18.5 kB]\n",
    "debconf: unable to initialize frontend: Dialog\n",
    "debconf: (Dialog frontend will not work on a dumb terminal, an emacs shell buffer, or without a controlling terminal.)\n",
    "debconf: falling back to frontend: Readline\n",
    "debconf: unable to initialize frontend: Readline\n",
    "debconf: (This frontend requires a controlling tty.)\n",
    "debconf: falling back to frontend: Teletype\n",
    "dpkg-preconfigure: unable to re-open stdin: \n",
    "Fetched 18.5 kB in 0s (294 kB/s)\n",
    "Selecting previously unselected package cowsay.\n",
    "(Reading database ... 146551 files and directories currently installed.)\n",
    "Preparing to unpack .../cowsay_3.03+dfsg2-7_all.deb ...\n",
    "Unpacking cowsay (3.03+dfsg2-7) ...\n",
    "Setting up cowsay (3.03+dfsg2-7) ...\n",
    "Processing triggers for man-db (2.9.1-1) ...\n",
    "I 09-07 16:27:47 cloud_vm_ray_backend.py:1975] Setup completed.\n",
    "I 09-07 16:27:50 cloud_vm_ray_backend.py:2040] Job submitted with Job ID: 1\n",
    "I 09-07 23:27:51 log_lib.py:373] Start streaming logs for job 1.\n",
    "INFO: Tip: use Ctrl-C to exit log streaming (task will not be killed).\n",
    "INFO: Waiting for task resources on 1 node. This will block if the cluster is full.\n",
    "INFO: All task resources reserved.\n",
    "INFO: Reserved IPs: ['172.31.33.58']\n",
    "(example pid=23346) Hello SkyPilot!\n",
    "(example pid=23346)  ______\n",
    "(example pid=23346) < Moo! >\n",
    "(example pid=23346)  ------\n",
    "(example pid=23346)         \\   ^__^\n",
    "(example pid=23346)          \\  (oo)\\_______\n",
    "(example pid=23346)             (__)\\       )\\/\\\n",
    "(example pid=23346)                 ||----w |\n",
    "(example pid=23346)                 ||     ||\n",
    "INFO: Job finished (status: SUCCEEDED).\n",
    "Shared connection to 18.234.228.139 closed.\n",
    "I 09-07 16:27:53 cloud_vm_ray_backend.py:2053] Job ID: 1\n",
    "I 09-07 16:27:53 cloud_vm_ray_backend.py:2053] To cancel the job:       sky cancel sky-82ce-romilb 1\n",
    "I 09-07 16:27:53 cloud_vm_ray_backend.py:2053] To stream the logs:      sky logs sky-82ce-romilb 1\n",
    "I 09-07 16:27:53 cloud_vm_ray_backend.py:2053] To view the job queue:   sky queue sky-82ce-romilb\n",
    "I 09-07 16:27:53 cloud_vm_ray_backend.py:2162] \n",
    "I 09-07 16:27:53 cloud_vm_ray_backend.py:2162] Cluster name: sky-82ce-romilb\n",
    "I 09-07 16:27:53 cloud_vm_ray_backend.py:2162] To log into the head VM: ssh sky-82ce-romilb\n",
    "I 09-07 16:27:53 cloud_vm_ray_backend.py:2162] To submit a job:         sky exec sky-82ce-romilb yaml_file\n",
    "I 09-07 16:27:53 cloud_vm_ray_backend.py:2162] To stop the cluster:     sky stop sky-82ce-romilb\n",
    "I 09-07 16:27:53 cloud_vm_ray_backend.py:2162] To teardown the cluster: sky down sky-82ce-romilb\n",
    "NAME             LAUNCHED     RESOURCES            STATUS  AUTOSTOP  COMMAND                  \n",
    "sky-82ce-romilb  28 secs ago  1x AWS(m6i.2xlarge)  UP      -         sky launch example.yaml  \n",
    "```\n",
    "</details>"
   ]
  },
  {
   "cell_type": "markdown",
   "metadata": {},
   "source": [
    "# Tasks and Clusters in SkyPilot"
   ]
  },
  {
   "cell_type": "markdown",
   "metadata": {},
   "source": [
    "**Tasks** in SkyPilot are executed on **clusters**. A **cluster** is a collection of nodes on a cloud.\n",
    "\n",
    "When you run a task with `sky launch`, SkyPilot creates a new cluster with a random name if an existing cluster is not specified.\n",
    "\n",
    "> **💡 Hint** - When running `sky launch`, you can give the cluster a name with the `-c` flag. E.g. `sky launch -c mycluster example.yaml` would launch a cluster with the name `mycluster`. If the cluster name already exists, then SkyPilot will try to reuse the cluster by re-running the `setup` commands on the cluster.\n",
    "\n",
    "You can see a table of your clusters with the command `sky status`."
   ]
  },
  {
   "cell_type": "markdown",
   "metadata": {},
   "source": [
    "## 💻 Checking your cluster status with `sky status`\n",
    "In a terminal window, run:\n",
    "\n",
    "\n",
    "-------------------------\n",
    "```console\n",
    "sky status\n",
    "```\n",
    "-------------------------"
   ]
  },
  {
   "cell_type": "markdown",
   "metadata": {},
   "source": [
    "### Expected output\n",
    "-------------------------\n",
    "```console\n",
    "(base) romilb@romilbx1yoga:skypilot-tutorial/01_hello_sky$ sky status\n",
    "\n",
    "NAME             LAUNCHED     RESOURCES            STATUS  AUTOSTOP  COMMAND                  \n",
    "sky-82ce-romilb  19 mins ago  1x AWS(m6i.2xlarge)  UP      -         sky launch example.yaml  \n",
    "```\n",
    "-------------------------"
   ]
  },
  {
   "cell_type": "markdown",
   "metadata": {},
   "source": [
    "We can see that the `sky launch` in the previous cells created a cluster with the name `sky-82ce-romilb`."
   ]
  },
  {
   "cell_type": "markdown",
   "metadata": {},
   "source": [
    "## 💻 SSH into the cluster!"
   ]
  },
  {
   "cell_type": "markdown",
   "metadata": {},
   "source": [
    "For debugging and development, you can easily SSH into a SkyPilot cluster with the `ssh` utility. In a terminal window, run:\n",
    "\n",
    "-------------------------\n",
    "```console\n",
    "ssh <cluster-name>\n",
    "```\n",
    "-------------------------"
   ]
  },
  {
   "cell_type": "markdown",
   "metadata": {},
   "source": [
    "### Expected output\n",
    "\n",
    "This will drop you into an interactive terminal inside your cluster:\n",
    "\n",
    "-------------------------\n",
    "```console\n",
    "(base) romilb@romilbx1yoga:skypilot-tutorial/01_hello_sky$ ssh sky-82ce-romilb \n",
    "Warning: Permanently added '18.234.228.139' (ECDSA) to the list of known hosts.\n",
    "=============================================================================\n",
    "       __|  __|_  )\n",
    "       _|  (     /   Deep Learning AMI GPU PyTorch 1.10.0 (Ubuntu 20.04)\n",
    "      ___|\\___|___|\n",
    "=============================================================================\n",
    "\n",
    "Welcome to Ubuntu 20.04.4 LTS (GNU/Linux 5.13.0-1014-aws x86_64v)\n",
    "\n",
    "Last login: Wed Sep  7 23:27:50 2022 from 24.23.130.196\n",
    "ubuntu@ip-172-31-33-58:~$ echo $HOSTNAME\n",
    "ip-172-31-33-58\n",
    "```\n",
    "-------------------------\n",
    "\n",
    "> **💡 Hint** - To enable the SSH functionality, SkyPilot adds the remote cluster to your `~/.ssh/config`. This means you can use the cluster name alias with other ssh tools, such as `scp`, `rsync`, VSCode and more!"
   ]
  },
  {
   "cell_type": "markdown",
   "metadata": {},
   "source": [
    "# Cluster lifecycle management"
   ]
  },
  {
   "cell_type": "markdown",
   "metadata": {},
   "source": [
    "SkyPilot clusters can exist in three states, each of which has different billing and storage implications:\n",
    "\n",
    "* **`RUNNING`** - Cluster is up and running, you will be billed for the instance and the attached storages.\n",
    "* **`STOPPED`** - Cluster nodes are shut down and their disks are suspended. Your data and node state is safe and the cluster can be restored to running state when required. You will be billed only for the storage.\n",
    "* **`TERMINATED`** - Cluster is terminated and all nodes and their attached disks are deleted. These clusters cannot be restarted and will not be shown in `sky status`.\n",
    "\n",
    "To manage these states, SkyPilot offers three useful commands:\n",
    "\n",
    "1. **`sky stop`** - stops a `RUNNING` cluster.\n",
    "2. **`sky start`** - starts a `STOPPED` cluster.\n",
    "2. **`sky down`** - terminates a `RUNNING` or `STOPPED` cluster.\n",
    "\n",
    "> **💡 Hint** - `sky stop` and `sky start` are useful when you want to suspend your experiments for a while but want to quickly resume later. `sky down` is useful to delete a cluster and restart a job from scratch."
   ]
  },
  {
   "cell_type": "markdown",
   "metadata": {},
   "source": [
    "## 💻 Terminate your cluster!\n",
    "We're at the end of this notebook and we don't want to let your cluster keep running and rack up a big bill! Let's terminate the cluster with `sky down`.\n",
    "\n",
    "First, let's get the cluster name with `sky status`.\n",
    "\n",
    "-------------------------\n",
    "```console\n",
    "sky status\n",
    "```\n",
    "-------------------------\n",
    "\n",
    "and then run `sky down` to terminate the cluster\n",
    "\n",
    "-------------------------\n",
    "```console\n",
    "sky down <cluster-name>\n",
    "```\n",
    "-------------------------"
   ]
  },
  {
   "cell_type": "markdown",
   "metadata": {},
   "source": [
    "### Expected output\n",
    "\n",
    "-------------------------\n",
    "```console\n",
    "(base) romilb@romilbx1yoga:skypilot-tutorial/01_hello_sky$ sky down sky-82ce-romilb\n",
    "Terminating 1 cluster: sky-82ce-romilb. Proceed? [Y/n]: Y\n",
    "Terminating cluster sky-82ce-romilb...done.\n",
    "Terminating 1 cluster ━━━━━━━━━━━━━━━━━━━━━━━━━━━━━━━━━━━━━━━━ 100% 0:00:00\n",
    "```\n",
    "-------------------------"
   ]
  },
  {
   "cell_type": "markdown",
   "metadata": {},
   "source": [
    "#### 🎉 Congratulations! You have completed this notebook. Please proceed to the next notebook.\n"
   ]
  },
  {
   "cell_type": "code",
   "execution_count": null,
   "metadata": {},
   "outputs": [],
   "source": []
  }
 ],
 "metadata": {
  "kernelspec": {
   "display_name": "Python 3",
   "language": "python",
   "name": "python3"
  },
  "language_info": {
   "codemirror_mode": {
    "name": "ipython",
    "version": 3
   },
   "file_extension": ".py",
   "mimetype": "text/x-python",
   "name": "python",
   "nbconvert_exporter": "python",
   "pygments_lexer": "ipython3",
   "version": "3.7.4"
  }
 },
 "nbformat": 4,
 "nbformat_minor": 4
}