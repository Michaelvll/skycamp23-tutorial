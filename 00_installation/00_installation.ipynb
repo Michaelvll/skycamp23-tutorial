{
 "cells": [
  {
   "cell_type": "markdown",
   "id": "78d09a6e",
   "metadata": {},
   "source": [
    "<p style=\"text-align:center;\">\n",
    "    <img src=\"https://raw.githubusercontent.com/skypilot-org/skypilot/master/docs/source/images/skypilot-wide-light-1k.png\" width=500>\n",
    "</p>"
   ]
  },
  {
   "cell_type": "markdown",
   "id": "2db67081",
   "metadata": {},
   "source": [
    "# Installation"
   ]
  },
  {
   "cell_type": "markdown",
   "id": "2f8fb045",
   "metadata": {},
   "source": [
    "This notebook will guide you through installing SkyPilot on your machine."
   ]
  },
  {
   "cell_type": "markdown",
   "id": "fcd0eafb",
   "metadata": {},
   "source": [
    "## Installing SkyPilot"
   ]
  },
  {
   "cell_type": "markdown",
   "id": "b0846a1d",
   "metadata": {},
   "source": [
    "By default, `pip install skyPilot` installs SkyPilot with AWS support. To install support for GCP and Azure, please edit the install command before running the following cell:"
   ]
  },
  {
   "cell_type": "code",
   "execution_count": null,
   "id": "7d878461",
   "metadata": {},
   "outputs": [],
   "source": [
    "# Edit this command based on the clouds you have access to! This might take some time depending on chosen dependencies.\n",
    "!pip install skypilot[aws,azure,gcp] -q"
   ]
  },
  {
   "cell_type": "markdown",
   "id": "5e5e5de9",
   "metadata": {},
   "source": [
    "Let's verify skypilot is installed:"
   ]
  },
  {
   "cell_type": "code",
   "execution_count": null,
   "id": "6e8e3c34",
   "metadata": {},
   "outputs": [],
   "source": [
    "import sky\n",
    "print(sky.__version__)"
   ]
  },
  {
   "cell_type": "markdown",
   "id": "e70b24f9",
   "metadata": {},
   "source": [
    "## Checking credential setup"
   ]
  },
  {
   "cell_type": "markdown",
   "id": "abc55d1f",
   "metadata": {},
   "source": [
    "Once SkyPilot is installed, it checks for access to clouds by using credentials used by cloud CLI tools.\n",
    "\n",
    "Let's run `sky check` to make sure your credentials are correctly setup.\n",
    "\n",
    "After running the below cell, you should have one or more clouds marked as `enabled`."
   ]
  },
  {
   "cell_type": "code",
   "execution_count": null,
   "id": "0da65bb5",
   "metadata": {},
   "outputs": [],
   "source": [
    "! sky check"
   ]
  },
  {
   "cell_type": "markdown",
   "id": "e679abce",
   "metadata": {},
   "source": [
    "This will produce a summary like:\n",
    "\n",
    "---------------------\n",
    "```\n",
    "Checking credentials to enable clouds for SkyPilot.\n",
    "  AWS: enabled\n",
    "  GCP: enabled\n",
    "  Azure: enabled\n",
    "\n",
    "SkyPilot will use only the enabled clouds to run tasks. To change this, configure cloud credentials, and run sky check.\n",
    "```\n",
    "---------------------"
   ]
  },
  {
   "cell_type": "markdown",
   "id": "67c8fedb",
   "metadata": {},
   "source": [
    "* **If your desired clouds are marked as enabled ✅** - Congratulations!  You have successfully installed SkyPilot! Please proceed to the next notebook.\n",
    "* **If your desired clouds are not marked as enabled ❌** - No worries, let's set them up now!"
   ]
  },
  {
   "cell_type": "markdown",
   "id": "4e865bd0",
   "metadata": {},
   "source": [
    "## Setting up cloud accounts"
   ]
  },
  {
   "cell_type": "markdown",
   "id": "2387fd4f",
   "metadata": {},
   "source": [
    "If `sky check` failed above, we will now setup your cloud credentials to work SkyPilot. \n",
    "\n",
    "For the following parts of the tutorial, you may need to open a terminal to run some commands. These points will be highlighted with a **💻** icon.\n",
    "\n",
    "> **💡 Hint** - If you're using jupyter lab, you can create a terminal in your browser by going to `File -> New -> Terminal`\n",
    "\n",
    "\n",
    "**Note - After running the below instructions, make sure to run `sky check` again to verify they are properly configured!**"
   ]
  },
  {
   "cell_type": "markdown",
   "id": "1c54d6aa",
   "metadata": {},
   "source": [
    "### AWS\n",
    "\n",
    "💻 Open a terminal and run:\n",
    "\n",
    "----------------------------\n",
    "```console\n",
    "pip install boto3\n",
    "aws configure\n",
    "```\n",
    "----------------------------\n",
    "\n",
    "\n",
    "To get the **AWS access key** required by `aws configure`, please go to the [AWS IAM Management Console](https://us-east-1.console.aws.amazon.com/iam/home?region=us-east-1#/security_credentials) and click on the “Access keys” dropdown (detailed instructions [here](https://docs.aws.amazon.com/IAM/latest/UserGuide/id_credentials_access-keys.html#Using_CreateAccessKey)). The Default region name [None]: and Default output format [None]: fields are optional and can be left blank to choose defaults."
   ]
  },
  {
   "cell_type": "markdown",
   "id": "6a6b91c9",
   "metadata": {},
   "source": [
    "### Google Cloud Platform\n",
    "💻 In an interactive terminal, run:\n",
    "\n",
    "----------------------------\n",
    "```console\n",
    "pip install google-api-python-client\n",
    "conda install -c conda-forge google-cloud-sdk\n",
    "\n",
    "gcloud init\n",
    "\n",
    "# Run this if you don't have a credentials file.\n",
    "# This will generate ~/.config/gcloud/application_default_credentials.json.\n",
    "gcloud auth application-default login\n",
    "```\n",
    "----------------------------\n",
    "\n",
    "If running `conda install -c conda-forge google-cloud-sdk` produces the error _“RemoveError: ‘requests’ is a dependency of conda and cannot be removed from conda’s operating environment”_, try `conda update --force conda` first and rerun the command.\n",
    "\n",
    "Note: if you encounter _Authorization Error (Error 400: invalid_request)_ with the url generated by `gcloud auth login`, try installing the latest version of the [Google Cloud SDK](https://cloud.google.com/sdk/docs/install) (e.g., with `conda install -c conda-forge google-cloud-sdk`) and rerun the command."
   ]
  },
  {
   "cell_type": "markdown",
   "id": "0052e1db",
   "metadata": {},
   "source": [
    "### Microsoft Azure\n",
    "\n",
    "💻 In an interactive terminal, run:\n",
    "\n",
    "----------------------------\n",
    "```console\n",
    "# Login\n",
    "az login\n",
    "# Set the subscription to use\n",
    "az account set -s <subscription_id>\n",
    "```\n",
    "----------------------------\n",
    "\n",
    "You can run `az account subscription list` to get a list of subscription IDs under your account.\n"
   ]
  }
 ],
 "metadata": {
  "kernelspec": {
   "display_name": "Python 3",
   "language": "python",
   "name": "python3"
  },
  "language_info": {
   "codemirror_mode": {
    "name": "ipython",
    "version": 3
   },
   "file_extension": ".py",
   "mimetype": "text/x-python",
   "name": "python",
   "nbconvert_exporter": "python",
   "pygments_lexer": "ipython3",
   "version": "3.7.4"
  }
 },
 "nbformat": 4,
 "nbformat_minor": 5
}
