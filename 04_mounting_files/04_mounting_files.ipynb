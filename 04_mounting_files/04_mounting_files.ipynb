{
 "cells": [
  {
   "cell_type": "markdown",
   "metadata": {},
   "source": [
    "<p style=\"text-align:center;\">\n",
    "    <img src=\"https://raw.githubusercontent.com/skypilot-org/skypilot/master/docs/source/images/skypilot-wide-light-1k.png\" width=500>\n",
    "</p>"
   ]
  },
  {
   "cell_type": "markdown",
   "metadata": {},
   "source": [
    "# Syncing Code and Artifacts in SkyPilot\n",
    "\n",
    "SkyPilot simplifies transferring code, data, and artifacts to and from cloud clusters:\n",
    "\n",
    "* To upload code and project files - use **`workdir`**\n",
    "\n",
    "* To upload files outside of workdir (e.g., dotfiles) - use **`file_mounts`**\n",
    "\n",
    "* To upload/reuse large files (e.g., datasets) - use **`SkyPilot Storage`**\n",
    "\n",
    "* To download files and artifacts from a cluster - use **`SkyPilot Storage or rsync`**\n",
    "\n",
    "Here, “upload” means uploading files from your local machine (or a cloud object store) to a SkyPilot cluster, while “download” means the reverse direction. The same mechanisms work for both files and directories.\n",
    "\n",
    "Each of these is discussed in our documentation, you can find it at: https://skypilot.readthedocs.io/en/latest/examples/syncing-code-artifacts.html"
   ]
  },
  {
   "cell_type": "markdown",
   "metadata": {},
   "source": [
    "#### [Work in Progress 🚧]\n",
    "This notebook is actively being worked on and may not be functional. Please find more details on this topic in our [docs](https://skypilot.readthedocs.io/en/latest/examples/syncing-code-artifacts.html)!"
   ]
  }
 ],
 "metadata": {
  "kernelspec": {
   "display_name": "Python 3",
   "language": "python",
   "name": "python3"
  },
  "language_info": {
   "codemirror_mode": {
    "name": "ipython",
    "version": 3
   },
   "file_extension": ".py",
   "mimetype": "text/x-python",
   "name": "python",
   "nbconvert_exporter": "python",
   "pygments_lexer": "ipython3",
   "version": "3.7.4"
  }
 },
 "nbformat": 4,
 "nbformat_minor": 4
}
