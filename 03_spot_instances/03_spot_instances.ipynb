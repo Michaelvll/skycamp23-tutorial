{
 "cells": [
  {
   "cell_type": "markdown",
   "metadata": {
    "jupyter": {
     "outputs_hidden": true
    }
   },
   "source": [
    "<p style=\"text-align:center;\">\n",
    "    <img src=\"https://raw.githubusercontent.com/skypilot-org/skypilot/master/docs/source/images/skypilot-wide-light-1k.png\" width=500>\n",
    "</p>"
   ]
  },
  {
   "cell_type": "markdown",
   "metadata": {},
   "source": [
    "# Saving costs with spot instances 💸\n",
    "Many cloud providers offer spot instances, low-priced VMs that can be preempted at any time by the cloud provider.\n",
    "\n",
    "SkyPilot supports the use of spot instances, and offers a fully managed experience **that can automatically recover from preemptions**. This feature **saves significant cost (e.g., up to 70% for GPU VMs)** by making preemptible spot instances practical for long-running jobs.\n",
    "\n",
    "To maximize availability, SkyPilot automatically finds available spot resources across regions and clouds. Here is an example of BERT training job running in different regions across AWS and GCP, switching over to a different region whenever preempted.\n",
    "\n",
    "<p style=\"text-align:center;\">\n",
    "    <img src=\"https://skypilot.readthedocs.io/en/latest/_images/spot-training.png\" width=500>\n",
    "</p>"
   ]
  },
  {
   "cell_type": "markdown",
   "metadata": {},
   "source": [
    "# Learning outcomes 🎯\n",
    "\n",
    "In this notebook, you will:\n",
    "\n",
    "1. Learn how to use spot instances in SkyPilot.\n",
    "2. Run a managed spot job\n",
    "3. Forcefully preempt a running job and observe SkyPilot's recovery mechanism"
   ]
  },
  {
   "cell_type": "markdown",
   "metadata": {},
   "source": [
    "# Using Managed Spot Instances with `sky spot launch`\n",
    "Any SkyPilot task can be launched on spot instances by simply using `sky spot launch task.yaml` instead of `sky launch task.yaml`. The `sky spot` CLI offers three key commands:\n",
    "\n",
    "1. **`sky spot launch <task.yaml>`** - Launches a managed spot job.\n",
    "2. **`sky spot status`** - Shows the status of managed spot jobs.\n",
    "3. **`sky spot logs <job_id>`** - Fetches the logs of a spot job.\n",
    "4. **`sky spot cancel <job_id>`** - Cancels a spot job.\n",
    "\n",
    "To manage the lifecycle of spot jobs, SkyPilot uses a controller that handles job launching and failure recovery. On running `sky spot launch`, SkyPilot first launches a controller (if it does not exist) and then runs the job."
   ]
  },
  {
   "cell_type": "markdown",
   "metadata": {},
   "source": [
    "## 💻 Train BERT on spot instances with `sky spot launch`!\n",
    "\n",
    "Let's run the same BERT fine-tuning task from the previous notebook! Use `sky spot launch` to run the task on spot instances.\n",
    "\n",
    "------------------\n",
    "```console\n",
    "$ sky spot launch 03_spot_instances/bert.yaml\n",
    "```\n",
    "------------------\n",
    "\n",
    "SkyPilot will launch and start monitoring the spot job. When a preemption happens, SkyPilot will automatically search for resources across regions and clouds to re-launch the job.\n",
    "\n",
    "```\n",
    "Task from YAML spec: bert.yaml\n",
    "Launching a new spot task 'sky-5ce7-romilb'. Proceed? [Y/n]: Y\n",
    "...\n",
    "I 10-16 21:29:06 cloud_vm_ray_backend.py:2067] Job submitted with Job ID: 1\n",
    "I 10-17 04:29:06 spot_utils.py:205] Waiting for the spot controller process to be RUNNING (status: PENDING).\n",
    "I 10-17 04:29:11 spot_utils.py:233] INFO: The log is not ready yet, as the spot job is STARTING. Waiting for 20 seconds.\n",
    "...\n",
    "I 10-17 04:34:33 log_lib.py:385] Start streaming logs for spot job 1.\n",
    "...\n",
    "(sky-5ce7-romilb pid=23855) [INFO|trainer.py:1290] 2022-10-17 04:35:52,604 >> ***** Running training *****\n",
    "(sky-5ce7-romilb pid=23855) [INFO|trainer.py:1291] 2022-10-17 04:35:52,604 >>   Num examples = 88524\n",
    "(sky-5ce7-romilb pid=23855) [INFO|trainer.py:1292] 2022-10-17 04:35:52,604 >>   Num Epochs = 50\n",
    "(sky-5ce7-romilb pid=23855) [INFO|trainer.py:1293] 2022-10-17 04:35:52,604 >>   Instantaneous batch size per device = 12\n",
    "(sky-5ce7-romilb pid=23855) [INFO|trainer.py:1294] 2022-10-17 04:35:52,604 >>   Total train batch size (w. parallel, distributed & accumulation) = 12\n",
    "(sky-5ce7-romilb pid=23855) [INFO|trainer.py:1295] 2022-10-17 04:35:52,604 >>   Gradient Accumulation steps = 1\n",
    "(sky-5ce7-romilb pid=23855) [INFO|trainer.py:1296] 2022-10-17 04:35:52,604 >>   Total optimization steps = 368850\n",
    "\n",
    "```\n",
    "\n",
    "## 💻 Check the status of your spot job with `sky spot status` \n",
    "\n",
    "------------------\n",
    "```\n",
    "$ sky spot status\n",
    "Fetching managed spot job status...\n",
    "Managed spot jobs:\n",
    "In progress jobs: 1 RUNNING\n",
    "\n",
    "ID  NAME             RESOURCES  SUBMITTED    TOT. DURATION  JOB DURATION  #RECOVERIES  STATUS\n",
    "1   sky-5ce7-romilb  1x [T4:1]  13 mins ago  13m 3s         7m 48s        0            RUNNING\n",
    "```\n",
    "------------------"
   ]
  },
  {
   "cell_type": "markdown",
   "metadata": {},
   "source": [
    "# SkyPilot spot instance recovery in action ⛑"
   ]
  },
  {
   "cell_type": "markdown",
   "metadata": {},
   "source": [
    "Let's observe how SkyPilot can automatically recover from spot instance preemptions.\n",
    "\n",
    "In this section, we will:\n",
    "\n",
    "1. **Forcefully terminate the spot instance using the AWS CLI**. We have provided a helper function `terminator.terminate()` to do this.\n",
    "2. Wait for the controller to detect the spot instance failure.\n",
    "3. Run `sky spot status` to see the **status change from `RUNNING` to `RECOVERING`**.\n",
    "4. Wait for the instance to recover.\n",
    "5. Run `sky spot status` to see the **status change back to `RUNNING`** and `#RECOVERIES` increment by 1.\n",
    "\n",
    "All of these steps are coded in the following cell. **Run the cell below and observe the outputs.**"
   ]
  },
  {
   "cell_type": "code",
   "execution_count": null,
   "metadata": {},
   "outputs": [],
   "source": [
    "import terminator\n",
    "import time\n",
    "import subprocess\n",
    "from terminator import sleep_timer\n",
    "\n",
    "# Kill the spot instance\n",
    "terminator.terminate()\n",
    "\n",
    "# Wait for the spot instance status to be updated in the controller\n",
    "print(\"\\nWaiting for 45 seconds to let the controller detect spot failure before running sky spot status\")\n",
    "sleep_timer(45)\n",
    "\n",
    "# Run sky spot status.\n",
    "print(\"\\n\\nRunning sky spot status. Note that the job status will have changed to RECOVERING.\")\n",
    "print(subprocess.check_output('sky spot status', shell=True, encoding='utf-8'))\n",
    "\n",
    "\n",
    "# Wait for the spot instance status to be updated in the controller\n",
    "print(\"Waiting for 300 seconds to let the spot instance recover before running sky spot status again.\")\n",
    "sleep_timer(300)\n",
    "print(\"\\n\\nRunning sky spot status. Note that the job status will have changed to RUNNING.\")\n",
    "print(subprocess.check_output('sky spot status', shell=True, encoding='utf-8'))"
   ]
  },
  {
   "cell_type": "markdown",
   "metadata": {},
   "source": [
    "### Expected cell output:\n",
    "-------------------------\n",
    "```\n",
    "Finding spot job to terminate...\n",
    "Terminating latest spot job sky-5ce7-romilb...\n",
    "Getting instance id...\n",
    "Terminating instance_id i-0b7b1bc0c0d3a03c9\n",
    "Running command: aws ec2 terminate-instances --region us-west-2 --instance-ids i-08cb990c15dcf86a3\ti-0b252881a10ec7c88\ti-0d91caeda85b05e40\ti-0185b54f5cb2efad7\ti-0b7b1bc0c0d3a03c9\n",
    "\n",
    "====== Successfully terminated spot VM. Hasta la vista, sky-5ce7-romilb ======\n",
    "\n",
    "Waiting for 30 seconds to let the controller detect spot failure before running sky spot status\n",
    "  1 seconds remaining.\n",
    "\n",
    "Running sky spot status. Note that the job status will have changed to RECOVERING.\n",
    "Fetching managed spot job statuses...\n",
    "Managed spot jobs:\n",
    "In progress jobs: 1 RECOVERING\n",
    "\n",
    "ID  NAME             RESOURCES  SUBMITTED  TOT. DURATION  JOB DURATION  #RECOVERIES  STATUS     \n",
    "1   sky-5ce7-romilb  1x [T4:1]  1 hr ago   1h 31m 45s     1h 7m 30s     0            RECOVERING     \n",
    "\n",
    "Waiting for 300 seconds to let the spot instance recover before running sky spot status again.\n",
    "  1 seconds remaining.\n",
    "  \n",
    "Running sky spot status. Note that the job status will have changed to RUNNING.\n",
    "Fetching managed spot job statuses...\n",
    "Managed spot jobs:\n",
    "In progress jobs: 1 RUNNING\n",
    "\n",
    "ID  NAME             RESOURCES  SUBMITTED  TOT. DURATION  JOB DURATION  #RECOVERIES  STATUS     \n",
    "1   sky-5ce7-romilb  1x [T4:1]  1 hr ago   1h 36m 58s     1h 7m 51s     1            RUNNING\n",
    "```\n",
    "-------------------------"
   ]
  },
  {
   "cell_type": "markdown",
   "metadata": {},
   "source": [
    "## 💻 Clean up with `sky spot cancel`\n",
    "We're at the end of this tutorial! Please run the following commands to stop all your jobs and kill any VMs.\n",
    "\n",
    "---------------\n",
    "```\n",
    "# Cancel spot jobs\n",
    "$ sky spot cancel -ay\n",
    "\n",
    "# Stop any running VMs\n",
    "$ sky down -ay\n",
    "```\n",
    "---------------"
   ]
  },
  {
   "cell_type": "markdown",
   "metadata": {},
   "source": [
    "### 🎉 Congratulations! You have compeleted the SkyPilot tutorial!\n",
    "\n",
    "### We want your feedback!\n",
    "**Please take a few minutes to fill out this short survey: [https://forms.gle/pjm7yPCxK7219vwm8](https://forms.gle/pjm7yPCxK7219vwm8).** We would love to hear what you thought about SkyPilot and this tutorial!\n",
    "\n",
    "\n",
    "### Liked SkyPilot?\n",
    "* **Give us a star on [github](github.com/skypilot-org/skypilot)!**\n",
    "* **Reach out to us on the SkyCamp slack or [email](mailto:romil.bhardwaj@berkeley.edu)!**\n",
    "* **Check out the [docs](https://skypilot.readthedocs.io/) to learn about more exciting SkyPilot features, such as automatic benchmarking, automatic instance stopping, TPUs, on-premise support and much more!**\n"
   ]
  }
 ],
 "metadata": {
  "kernelspec": {
   "display_name": "Python 3",
   "language": "python",
   "name": "python3"
  },
  "language_info": {
   "codemirror_mode": {
    "name": "ipython",
    "version": 3
   },
   "file_extension": ".py",
   "mimetype": "text/x-python",
   "name": "python",
   "nbconvert_exporter": "python",
   "pygments_lexer": "ipython3",
   "version": "3.7.4"
  }
 },
 "nbformat": 4,
 "nbformat_minor": 4
}